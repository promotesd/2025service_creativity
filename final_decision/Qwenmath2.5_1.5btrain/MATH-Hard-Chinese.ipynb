{
 "cells": [
  {
   "cell_type": "code",
   "execution_count": 2,
   "metadata": {},
   "outputs": [
    {
     "data": {
      "application/vnd.jupyter.widget-view+json": {
       "model_id": "2db8e5d89a9a46cead16ca9247393e3b",
       "version_major": 2,
       "version_minor": 0
      },
      "text/plain": [
       "README.md:   0%|          | 0.00/428 [00:00<?, ?B/s]"
      ]
     },
     "metadata": {},
     "output_type": "display_data"
    },
    {
     "data": {
      "application/vnd.jupyter.widget-view+json": {
       "model_id": "b045741456f846988952ad5eb6a7331c",
       "version_major": 2,
       "version_minor": 0
      },
      "text/plain": [
       "math-hard-zh.parquet:   0%|          | 0.00/1.12M [00:00<?, ?B/s]"
      ]
     },
     "metadata": {},
     "output_type": "display_data"
    },
    {
     "data": {
      "application/vnd.jupyter.widget-view+json": {
       "model_id": "2d0c7c3642da4589bdaa6c53710452a1",
       "version_major": 2,
       "version_minor": 0
      },
      "text/plain": [
       "Generating train split: 0 examples [00:00, ? examples/s]"
      ]
     },
     "metadata": {},
     "output_type": "display_data"
    },
    {
     "name": "stdout",
     "output_type": "stream",
     "text": [
      "DatasetDict({\n",
      "    train: Dataset({\n",
      "        features: ['id', 'messages'],\n",
      "        num_rows: 2209\n",
      "    })\n",
      "})\n"
     ]
    }
   ],
   "source": [
    "from datasets import load_dataset\n",
    "\n",
    "dataset = load_dataset(\"ALmonster/MATH-Hard-Chinese\")\n",
    "print(dataset)"
   ]
  },
  {
   "cell_type": "code",
   "execution_count": 3,
   "metadata": {},
   "outputs": [
    {
     "name": "stdout",
     "output_type": "stream",
     "text": [
      "{'id': '1', 'messages': [{'content': '设$f$是一个将非负整数映射到非负整数的函数，使得对于所有非负整数$a$和$b$，有\\\\[2f(a^2 + b^2) = [f(a)]^2 + [f(b)]^2\\\\]。设$n$是$f(25)$可能值的数量，$s$是$f(25)$可能值的和。求$n \\\\times s$。', 'role': 'user'}, {'content': '将$a = 0$和$b = 0$代入给定的函数方程，我们得到\\\\[2f(0) = 2[f(0)]^2.\\\\]因此，$f(0) = 0$或$f(0) = 1$。\\\\n\\\\n将$a = 0$和$b = 1$代入给定的函数方程，我们得到\\\\[2f(1) = [f(0)]^2 + [f(1)]^2.\\\\]如果$f(0) = 0$，则$2f(1) = [f(1)]^2$，这意味着$f(1) = 0$或$f(1) = 2$。如果$f(0) = 1$，则$[f(1)]^2 - 2f(1) + 1 = [f(1) - 1]^2 = 0$，所以$f(1) = 1$。\\\\n\\\\n我们根据情况进行分类讨论，但在开始之前，请注意我们可以通过以下值得到$f(25)$：\\\\n\\\\n\\\\\\\\begin{align*}\\\\na = 1, b = 1: \\\\ & 2f(2) = 2[f(1)]^2 \\\\quad \\\\\\\\Rightarrow \\\\quad f(2) = [f(1)]^2 \\\\\\\\\\\\\\\\\\\\na = 1, b = 2: \\\\ & 2f(5) = [f(1)]^2 + [f(2)]^2 \\\\\\\\\\\\\\\\\\\\na = 0, b = 5: \\\\ & 2f(25) = [f(0)]^2 + [f(5)]^2\\\\n\\\\\\\\end{align*}\\\\n\\\\n情况1：$f(0) = 0$且$f(1) = 0$。\\\\n\\\\n从上面的方程，$f(2) = [f(1)]^2 = 0$，$2f(5) = [f(1)]^2 + [f(2)]^2 = 0$所以$f(5) = 0$，并且$2f(25) = [f(0)]^2 + [f(5)]^2 = 0$，所以$f(25) = 0$。\\\\n\\\\n注意，函数$f(n) = 0$满足给定的函数方程，这表明$f(25)$可以取值0。\\\\n\\\\n情况2：$f(0) = 0$且$f(1) = 2$。\\\\n\\\\n从上面的方程，$f(2) = [f(1)]^2 = 4$，$2f(5) = [f(1)]^2 + [f(2)]^2 = 20$所以$f(5) = 10$，并且$2f(25) = [f(0)]^2 + [f(5)]^2 = 100$，所以$f(25) = 50$。\\\\n\\\\n注意，函数$f(n) = 2n$满足给定的函数方程，这表明$f(25)$可以取值50。\\\\n\\\\n情况3：$f(0) = 1$且$f(1) = 1$。\\\\n\\\\n从上面的方程，$f(2) = [f(1)]^2 = 1$，$2f(5) = [f(1)]^2 + [f(2)]^2 = 2$所以$f(5) = 1$，并且$2f(25) = [f(0)]^2 + [f(5)]^2 = 2$，所以$f(25) = 1$。\\\\n\\\\n注意，函数$f(n) = 1$满足给定的函数方程，这表明$f(25)$可以取值1。\\\\n\\\\n因此，$f(25)$有$n = 3$个不同的可能值，它们的和是$s = 0 + 50 + 1 = 51$，最终答案是$n \\\\times s = 3 \\\\times 51 = \\\\\\\\boxed{153}$。', 'role': 'assistant'}]}\n"
     ]
    }
   ],
   "source": [
    "print(dataset[\"train\"][0])\n",
    "\n"
   ]
  }
 ],
 "metadata": {
  "kernelspec": {
   "display_name": "glm4-9bchat",
   "language": "python",
   "name": "python3"
  },
  "language_info": {
   "codemirror_mode": {
    "name": "ipython",
    "version": 3
   },
   "file_extension": ".py",
   "mimetype": "text/x-python",
   "name": "python",
   "nbconvert_exporter": "python",
   "pygments_lexer": "ipython3",
   "version": "3.11.11"
  }
 },
 "nbformat": 4,
 "nbformat_minor": 2
}
