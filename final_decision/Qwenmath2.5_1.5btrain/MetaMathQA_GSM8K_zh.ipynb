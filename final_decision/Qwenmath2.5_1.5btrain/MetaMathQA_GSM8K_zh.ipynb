{
 "cells": [
  {
   "cell_type": "code",
   "execution_count": 1,
   "metadata": {},
   "outputs": [
    {
     "name": "stdout",
     "output_type": "stream",
     "text": [
      "DatasetDict({\n",
      "    train: Dataset({\n",
      "        features: ['query', 'response', 'type', 'query_zh', 'response_zh'],\n",
      "        num_rows: 231685\n",
      "    })\n",
      "})\n"
     ]
    }
   ],
   "source": [
    "from datasets import load_dataset\n",
    "\n",
    "dataset = load_dataset(\"meta-math/MetaMathQA_GSM8K_zh\")\n",
    "print(dataset)"
   ]
  },
  {
   "cell_type": "code",
   "execution_count": 2,
   "metadata": {},
   "outputs": [
    {
     "name": "stdout",
     "output_type": "stream",
     "text": [
      "{'query': 'The coffee shop sold 8 more than four times the number of lattes as it did teas. If 6 teas were sold how many lattes did the coffee shop sell?', 'response': 'If the coffee shop sold 6 teas, then the number of lattes sold is 8 more than four times the number of teas.\\nFour times the number of teas is 4 * 6 = 24.\\nSo, the number of lattes sold is 24 + 8 = 32.\\n#### 32\\nThe answer is: 32', 'type': 'GSM_AnsAug', 'query_zh': '咖啡店卖出的拿铁咖啡比茶多了8杯。如果卖出了6杯茶，咖啡店卖出了多少杯拿铁咖啡？', 'response_zh': '如果咖啡店卖出了6杯茶，那么卖出的拿铁咖啡数量是茶的四倍加8。\\n茶的四倍是4 * 6 = 24。\\n所以，卖出的拿铁咖啡数量是24 + 8 = 32。\\n答案是：32'}\n"
     ]
    }
   ],
   "source": [
    "print(dataset[\"train\"][0])\n"
   ]
  }
 ],
 "metadata": {
  "kernelspec": {
   "display_name": "glm4-9bchat",
   "language": "python",
   "name": "python3"
  },
  "language_info": {
   "codemirror_mode": {
    "name": "ipython",
    "version": 3
   },
   "file_extension": ".py",
   "mimetype": "text/x-python",
   "name": "python",
   "nbconvert_exporter": "python",
   "pygments_lexer": "ipython3",
   "version": "3.11.11"
  }
 },
 "nbformat": 4,
 "nbformat_minor": 2
}
