{
 "cells": [
  {
   "cell_type": "markdown",
   "metadata": {},
   "source": [
    "#### 中英文混合数据集"
   ]
  },
  {
   "cell_type": "code",
   "execution_count": 2,
   "metadata": {},
   "outputs": [
    {
     "name": "stderr",
     "output_type": "stream",
     "text": [
      "/root/miniconda3/envs/glm4-9bchat/lib/python3.11/site-packages/tqdm/auto.py:21: TqdmWarning: IProgress not found. Please update jupyter and ipywidgets. See https://ipywidgets.readthedocs.io/en/stable/user_install.html\n",
      "  from .autonotebook import tqdm as notebook_tqdm\n",
      "Generating train split: 463370 examples [00:01, 240325.28 examples/s]"
     ]
    },
    {
     "name": "stdout",
     "output_type": "stream",
     "text": [
      "DatasetDict({\n",
      "    train: Dataset({\n",
      "        features: ['query', 'response', 'type', 'query_zh', 'response_zh'],\n",
      "        num_rows: 463370\n",
      "    })\n",
      "})\n"
     ]
    },
    {
     "name": "stderr",
     "output_type": "stream",
     "text": [
      "\n"
     ]
    }
   ],
   "source": [
    "from datasets import load_dataset\n",
    "\n",
    "##meta-math___meta_math_qa_gsm8_k_zh数据集\n",
    "dataset = load_dataset(r\"/root/.cache/huggingface/datasets/meta-math___meta_math_qa_gsm8_k_zh\")\n",
    "print(dataset)\n"
   ]
  },
  {
   "cell_type": "code",
   "execution_count": 3,
   "metadata": {},
   "outputs": [
    {
     "name": "stdout",
     "output_type": "stream",
     "text": [
      "{'query': 'A store is comparing their profits throughout the year. They had profits of $1,500 in the first quarter of the year, $3,000 in the third quarter, and $2,000 in the fourth quarter. If their annual profits are $8,000, how much profit, in dollars, did they make in the second quarter?', 'response': 'The annual profit is $8,000.\\nThe sum of the profits in the first, third, and fourth quarters is $1,500 + $3,000 + $2,000 = $6,500.\\nTherefore, the profit in the second quarter is $8,000 - $6,500 = $1,500.\\n#### 1500\\nThe answer is: 1500', 'type': 'GSM_AnsAug', 'query_zh': '一家商店正在比较他们全年的利润。他们在一年的第一季度获得了1500美元的利润，在第三季度获得了3000美元的利润，在第四季度获得了2000美元的利润。如果他们的年利润是8000美元，他们在第二季度赚了多少利润（以美元计）？', 'response_zh': '年利润是8000美元。\\n第一季度、第三季度和第四季度的利润总和是1500美元 + 3000美元 + 2000美元 = 6500美元。\\n因此，第二季度的利润是8000美元 - 6500美元 = 1500美元。\\n答案是：1500。'}\n"
     ]
    }
   ],
   "source": [
    "print(dataset['train'][1])"
   ]
  },
  {
   "cell_type": "code",
   "execution_count": null,
   "metadata": {},
   "outputs": [],
   "source": []
  }
 ],
 "metadata": {
  "kernelspec": {
   "display_name": "glm4-9bchat",
   "language": "python",
   "name": "python3"
  },
  "language_info": {
   "codemirror_mode": {
    "name": "ipython",
    "version": 3
   },
   "file_extension": ".py",
   "mimetype": "text/x-python",
   "name": "python",
   "nbconvert_exporter": "python",
   "pygments_lexer": "ipython3",
   "version": "3.11.11"
  }
 },
 "nbformat": 4,
 "nbformat_minor": 2
}
