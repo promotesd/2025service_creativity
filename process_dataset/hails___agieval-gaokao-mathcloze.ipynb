{
 "cells": [
  {
   "cell_type": "code",
   "execution_count": 8,
   "metadata": {},
   "outputs": [
    {
     "name": "stderr",
     "output_type": "stream",
     "text": [
      "Generating test split: 472 examples [00:00, 172148.83 examples/s]"
     ]
    },
    {
     "name": "stdout",
     "output_type": "stream",
     "text": [
      "DatasetDict({\n",
      "    test: Dataset({\n",
      "        features: ['query', 'answer'],\n",
      "        num_rows: 472\n",
      "    })\n",
      "})\n"
     ]
    },
    {
     "name": "stderr",
     "output_type": "stream",
     "text": [
      "\n"
     ]
    }
   ],
   "source": [
    "from datasets import load_dataset\n",
    "\n",
    "##hails___agieval-gaokao-mathcloze数据集\n",
    "dataset = load_dataset(r\"/root/.cache/huggingface/datasets/hails___agieval-gaokao-mathcloze\")\n",
    "print(dataset)\n"
   ]
  },
  {
   "cell_type": "code",
   "execution_count": 9,
   "metadata": {},
   "outputs": [
    {
     "name": "stdout",
     "output_type": "stream",
     "text": [
      "{'query': '问题：已知 $a \\\\in \\\\mathrm{R}$, 函数 $f(x)=\\\\left\\\\{\\\\begin{array}{l}x^{2}-4, x>2 \\\\\\\\ |x-3|+a, x \\\\leq 2,\\\\end{array}\\\\right.$ 若 $f[f(\\\\sqrt{6})]=3$, 则 $a=(\\\\quad)$\\n答案：', 'answer': '2'}\n"
     ]
    }
   ],
   "source": [
    "print(dataset['test'][0])"
   ]
  }
 ],
 "metadata": {
  "kernelspec": {
   "display_name": "glm4-9bchat",
   "language": "python",
   "name": "python3"
  },
  "language_info": {
   "codemirror_mode": {
    "name": "ipython",
    "version": 3
   },
   "file_extension": ".py",
   "mimetype": "text/x-python",
   "name": "python",
   "nbconvert_exporter": "python",
   "pygments_lexer": "ipython3",
   "version": "3.11.11"
  }
 },
 "nbformat": 4,
 "nbformat_minor": 2
}
