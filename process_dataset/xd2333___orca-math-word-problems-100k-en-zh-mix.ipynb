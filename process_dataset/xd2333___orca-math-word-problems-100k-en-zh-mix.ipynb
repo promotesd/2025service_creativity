{
 "cells": [
  {
   "cell_type": "markdown",
   "metadata": {},
   "source": [
    "#### 中英混合"
   ]
  },
  {
   "cell_type": "code",
   "execution_count": 2,
   "metadata": {},
   "outputs": [
    {
     "name": "stderr",
     "output_type": "stream",
     "text": [
      "/root/miniconda3/envs/glm4-9bchat/lib/python3.11/site-packages/tqdm/auto.py:21: TqdmWarning: IProgress not found. Please update jupyter and ipywidgets. See https://ipywidgets.readthedocs.io/en/stable/user_install.html\n",
      "  from .autonotebook import tqdm as notebook_tqdm\n",
      "Generating train split: 200000 examples [00:00, 383499.91 examples/s]"
     ]
    },
    {
     "name": "stdout",
     "output_type": "stream",
     "text": [
      "DatasetDict({\n",
      "    train: Dataset({\n",
      "        features: ['instruction', 'output', 'system'],\n",
      "        num_rows: 200000\n",
      "    })\n",
      "})\n"
     ]
    },
    {
     "name": "stderr",
     "output_type": "stream",
     "text": [
      "\n"
     ]
    }
   ],
   "source": [
    "from datasets import load_dataset\n",
    "\n",
    "##xd2333___orca-math-word-problems-100k-en-zh-mix数据集\n",
    "dataset = load_dataset(r\"/root/.cache/huggingface/datasets/xd2333___orca-math-word-problems-100k-en-zh-mix\")\n",
    "print(dataset)\n"
   ]
  },
  {
   "cell_type": "code",
   "execution_count": 4,
   "metadata": {},
   "outputs": [
    {
     "name": "stdout",
     "output_type": "stream",
     "text": [
      "{'instruction': '如果一个班级里有些学生在一次考试中平均得分是75%，而有10名学生在这门考试中平均得分是95%，那么所有25名学生的平均得分是83%。有多少学生平均得分是75%？', 'output': '让我们用x来表示平均得分75%的学生人数。\\n\\n我们知道有10名学生平均得分是95%，班级里总共有25名学生。因此，平均得分75%的学生人数将是25 - 10 = 15名学生。\\n\\n现在，让我们计算所有学生的总百分比：\\n\\n平均得分95%的10名学生将贡献总共10 * 95 = 950百分比点。\\n\\n平均得分75%的x名学生将贡献总共x * 75百分比点。\\n\\n所有25名学生的总百分比点是25 * 83 = 2075百分比点。\\n\\n现在我们可以建立方程：\\n\\n950（来自那10名得分95%的学生）+ 75x（来自那x名得分75%的学生）= 2075（所有25名学生的总百分比点）\\n\\n解x：\\n\\n950 + 75x = 2075\\n75x = 2075 - 950\\n75x = 1125\\nx = 1125 / 75\\nx = 15\\n\\n所以，有15名学生平均得分是75%。', 'system': 'You are a helpful assistant.'}\n"
     ]
    }
   ],
   "source": [
    "print(dataset['train'][2])"
   ]
  }
 ],
 "metadata": {
  "kernelspec": {
   "display_name": "glm4-9bchat",
   "language": "python",
   "name": "python3"
  },
  "language_info": {
   "codemirror_mode": {
    "name": "ipython",
    "version": 3
   },
   "file_extension": ".py",
   "mimetype": "text/x-python",
   "name": "python",
   "nbconvert_exporter": "python",
   "pygments_lexer": "ipython3",
   "version": "3.11.11"
  }
 },
 "nbformat": 4,
 "nbformat_minor": 2
}
